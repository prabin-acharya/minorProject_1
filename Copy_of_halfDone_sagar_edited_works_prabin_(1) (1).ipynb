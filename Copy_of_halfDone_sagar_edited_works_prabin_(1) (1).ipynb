{
  "cells": [
    {
      "cell_type": "code",
      "source": [],
      "metadata": {
        "id": "MwEnUMb3BO9H"
      },
      "execution_count": 2,
      "outputs": []
    },
    {
      "cell_type": "code",
      "source": [
        "import pandas as pd\n",
        "import numpy as np\n",
        "import re\n",
        "import string\n",
        "from string import digits\n",
        "from tensorflow.keras.layers import Input, Embedding, LSTM, Dense\n",
        "from tensorflow.keras.models import Model\n",
        "from tensorflow.keras.optimizers import Adam\n",
        "from tensorflow.keras.preprocessing.text import Tokenizer\n",
        "from tensorflow.keras.preprocessing.sequence import pad_sequences\n",
        "from sklearn.model_selection import train_test_split\n",
        "from gensim.models import KeyedVectors\n",
        "from gensim.scripts.glove2word2vec import glove2word2vec\n",
        "from gensim.models import KeyedVectors\n",
        "\n",
        "# Load the data\n",
        "train_data = pd.read_table('/content/drive/MyDrive/FINAL/train.csv', sep=',', names=['question','sql'])\n",
        "val_data = pd.read_table('/content/drive/MyDrive/FINAL/validation.csv', sep=',', names=['question','sql'])\n",
        "test_data = pd.read_table('/content/drive/MyDrive/FINAL/test.csv', sep=',', names=['question','sql'])\n",
        "\n",
        "\n",
        "\n",
        "\n",
        "# Preprocess the data\n",
        "def preprocess(text):\n",
        "    text = text.lower()\n",
        "    text = re.sub(\"'\", '', text)\n",
        "    text = re.sub(\",\", \" COMMA\", text)\n",
        "    exclude = set(string.punctuation)\n",
        "    text = ''.join(ch for ch in text if ch not in exclude)\n",
        "    remove_digits = str.maketrans('', '', digits)\n",
        "    text = text.translate(remove_digits)\n",
        "    return text\n",
        "\n",
        "train_data.question = train_data.question.apply(preprocess)\n",
        "train_data.sql = train_data.sql.apply(preprocess)\n",
        "\n",
        "val_data.question = val_data.question.apply(preprocess)\n",
        "val_data.sql = val_data.sql.apply(preprocess)\n",
        "\n",
        "test_data.question = test_data.question.apply(preprocess)\n",
        "\n",
        "# Add start and end tokens to SQL sentences\n",
        "train_data.sql = train_data.sql.apply(lambda x: 'start ' + x + ' end')\n",
        "val_data.sql = val_data.sql.apply(lambda x: 'start ' + x + ' end')\n",
        "\n",
        "\n",
        "\n",
        "# Tokenize the input and output sentences\n",
        "eng_tokenizer = Tokenizer()\n",
        "eng_tokenizer.fit_on_texts(train_data.question)\n",
        "input_sequences_train = eng_tokenizer.texts_to_sequences(train_data.question)\n",
        "input_sequences_train = pad_sequences(input_sequences_train, padding='post')\n",
        "\n",
        "input_sequences_val = eng_tokenizer.texts_to_sequences(val_data.question)\n",
        "input_sequences_val = pad_sequences(input_sequences_val, padding='post')\n",
        "\n",
        "sql_tokenizer = Tokenizer()\n",
        "sql_tokenizer.fit_on_texts(train_data.sql)\n",
        "output_sequences_train = sql_tokenizer.texts_to_sequences(train_data.sql)\n",
        "output_sequences_train = pad_sequences(output_sequences_train, padding='post')\n",
        "\n",
        "output_sequences_val = sql_tokenizer.texts_to_sequences(val_data.sql)\n",
        "output_sequences_val = pad_sequences(output_sequences_val, padding='post')\n",
        "\n",
        "# Compute max_input_length and max_output_length\n",
        "max_input_length = input_sequences_train.shape[1]\n",
        "max_output_length = output_sequences_train.shape[1]\n",
        "\n",
        "\n",
        "\n",
        "\n",
        "\n"
      ],
      "metadata": {
        "id": "usomOJ4uR7Ku"
      },
      "execution_count": 3,
      "outputs": []
    },
    {
      "cell_type": "code",
      "source": [
        "glove_file = '/content/drive/MyDrive/FINAL/glove.6B.50d.txt'\n",
        "word2vec_output_file = '/content/drive/MyDrive/glove.6B.50d.word2vec.txt'\n",
        "\n",
        "# Convert GloVe embeddings to Word2Vec format\n",
        "glove2word2vec(glove_file, word2vec_output_file)\n",
        "\n",
        "# Load the converted Word2Vec embeddings\n",
        "word_vectors = KeyedVectors.load_word2vec_format(word2vec_output_file)\n",
        "\n",
        "# Create embedding matrix for the input vocabulary\n",
        "input_vocab_size = len(eng_tokenizer.word_index) + 1\n",
        "embedding_size = word_vectors.vector_size\n",
        "embedding_matrix = np.zeros((input_vocab_size, embedding_size))\n",
        "for word, i in eng_tokenizer.word_index.items():\n",
        "    if word in word_vectors:\n",
        "        embedding_matrix[i] = word_vectors[word]\n",
        "\n",
        "\n"
      ],
      "metadata": {
        "colab": {
          "base_uri": "https://localhost:8080/"
        },
        "id": "a4GpI4grSC47",
        "outputId": "a60d7aea-806f-4365-d58b-ba47b8525a50"
      },
      "execution_count": 4,
      "outputs": [
        {
          "output_type": "stream",
          "name": "stderr",
          "text": [
            "<ipython-input-4-0ccbcc5f1a33>:5: DeprecationWarning: Call to deprecated `glove2word2vec` (KeyedVectors.load_word2vec_format(.., binary=False, no_header=True) loads GLoVE text vectors.).\n",
            "  glove2word2vec(glove_file, word2vec_output_file)\n"
          ]
        }
      ]
    },
    {
      "cell_type": "code",
      "source": [
        "# Define the model architecture\n",
        "hidden_size = 512\n",
        "encoder_inputs = Input(shape=(None,))\n",
        "enc_emb = Embedding(input_vocab_size, embedding_size, weights=[embedding_matrix], trainable=False)(encoder_inputs)\n",
        "encoder_lstm = LSTM(hidden_size, return_state=True)\n",
        "encoder_outputs, state_h, state_c = encoder_lstm(enc_emb)\n",
        "encoder_states = [state_h, state_c]\n",
        "\n",
        "output_vocab_size = len(sql_tokenizer.word_index) + 1\n",
        "output_embedding_matrix = np.zeros((output_vocab_size, embedding_size))\n",
        "for word, i in sql_tokenizer.word_index.items():\n",
        "    if word in word_vectors:\n",
        "        output_embedding_matrix[i] = word_vectors[word]\n",
        "\n",
        "decoder_inputs = Input(shape=(None,))\n",
        "dec_emb_layer = Embedding(output_vocab_size, embedding_size, weights=[output_embedding_matrix], trainable=False)\n",
        "dec_emb = dec_emb_layer(decoder_inputs)\n",
        "decoder_lstm = LSTM(hidden_size, return_sequences=True, return_state=True)\n",
        "decoder_outputs, _, _ = decoder_lstm(dec_emb, initial_state=encoder_states)\n",
        "decoder_dense = Dense(output_vocab_size, activation='softmax')\n",
        "decoder_outputs = decoder_dense(decoder_outputs)\n",
        "\n",
        "model = Model([encoder_inputs, decoder_inputs], decoder_outputs)\n",
        "\n",
        "\n",
        "\n",
        "# Compile the model\n",
        "optimizer = Adam(lr=0.001)\n",
        "model.compile(optimizer=optimizer, loss='sparse_categorical_crossentropy', metrics=['accuracy'])\n",
        "\n",
        "\n",
        "from keras.callbacks import EarlyStopping\n",
        "\n",
        "\n",
        "# Define the early stopping criteria\n",
        "early_stopping = EarlyStopping(monitor='val_loss', patience=3)\n",
        "\n",
        "# Train the model\n",
        "history = model.fit([input_sequences_train, output_sequences_train[:,:-1]],\n",
        "                    output_sequences_train.reshape(output_sequences_train.shape[0], output_sequences_train.shape[1], 1)[:,1:],\n",
        "                    epochs=10, batch_size=64,\n",
        "                    validation_data=([input_sequences_val, output_sequences_val[:,:-1]],\n",
        "                                     output_sequences_val.reshape(output_sequences_val.shape[0], output_sequences_val.shape[1], 1)[:,1:]),\n",
        "                    callbacks=[early_stopping])"
      ],
      "metadata": {
        "colab": {
          "base_uri": "https://localhost:8080/"
        },
        "id": "pGluMCdbScbS",
        "outputId": "0021fd44-a3e6-4850-8116-9074bba394c3"
      },
      "execution_count": 5,
      "outputs": [
        {
          "output_type": "stream",
          "name": "stderr",
          "text": [
            "WARNING:absl:`lr` is deprecated in Keras optimizer, please use `learning_rate` or use the legacy optimizer, e.g.,tf.keras.optimizers.legacy.Adam.\n"
          ]
        },
        {
          "output_type": "stream",
          "name": "stdout",
          "text": [
            "Epoch 1/10\n",
            "881/881 [==============================] - 143s 151ms/step - loss: 0.8407 - accuracy: 0.8977 - val_loss: 0.9004 - val_accuracy: 0.8655\n",
            "Epoch 2/10\n",
            "881/881 [==============================] - 139s 158ms/step - loss: 0.5425 - accuracy: 0.9195 - val_loss: 0.7253 - val_accuracy: 0.8825\n",
            "Epoch 3/10\n",
            "881/881 [==============================] - 139s 158ms/step - loss: 0.4345 - accuracy: 0.9292 - val_loss: 0.6083 - val_accuracy: 0.8976\n",
            "Epoch 4/10\n",
            "881/881 [==============================] - 137s 156ms/step - loss: 0.3482 - accuracy: 0.9385 - val_loss: 0.5345 - val_accuracy: 0.9089\n",
            "Epoch 5/10\n",
            "881/881 [==============================] - 137s 156ms/step - loss: 0.2823 - accuracy: 0.9457 - val_loss: 0.4962 - val_accuracy: 0.9151\n",
            "Epoch 6/10\n",
            "881/881 [==============================] - 137s 156ms/step - loss: 0.2312 - accuracy: 0.9521 - val_loss: 0.4693 - val_accuracy: 0.9200\n",
            "Epoch 7/10\n",
            "881/881 [==============================] - 138s 156ms/step - loss: 0.1917 - accuracy: 0.9583 - val_loss: 0.4577 - val_accuracy: 0.9227\n",
            "Epoch 8/10\n",
            "881/881 [==============================] - 140s 159ms/step - loss: 0.1615 - accuracy: 0.9636 - val_loss: 0.4487 - val_accuracy: 0.9253\n",
            "Epoch 9/10\n",
            "881/881 [==============================] - 138s 156ms/step - loss: 0.1377 - accuracy: 0.9681 - val_loss: 0.4482 - val_accuracy: 0.9264\n",
            "Epoch 10/10\n",
            "881/881 [==============================] - 140s 159ms/step - loss: 0.1180 - accuracy: 0.9720 - val_loss: 0.4495 - val_accuracy: 0.9270\n"
          ]
        }
      ]
    },
    {
      "cell_type": "code",
      "source": [
        "### NO NEED TO RUN THIS - error\n",
        "\n",
        "\n",
        "\n",
        "# Compile the model\n",
        "optimizer = Adam(lr=0.001)\n",
        "model.compile(optimizer=optimizer, loss='sparse_categorical_crossentropy', metrics=['accuracy'])\n",
        "\n",
        "# Define the early stopping criteria\n",
        "early_stopping = EarlyStopping(monitor='val_loss', patience=3)\n",
        "\n",
        "# Train the model\n",
        "history = model.fit([X_train, y_train[:,:-1]], y_train.reshape(y_train.shape[0], y_train.shape[1], 1)[:,1:],\n",
        "          epochs=10, batch_size=64,\n",
        "          validation_data=([X_val, y_val[:,:-1]], y_val.reshape(y_val.shape[0], y_val.shape[1], 1)[:,1:]),\n",
        "          callbacks=[early_stopping]\n",
        "          )\n"
      ],
      "metadata": {
        "id": "Br30UG0_ZYKl"
      },
      "execution_count": null,
      "outputs": []
    },
    {
      "cell_type": "code",
      "source": [
        "### NO NEED TO RUN THIS - error\n",
        "\n",
        "\n",
        "# Evaluate the model on the validation dataset\n",
        "val_loss, val_acc = model.evaluate([X_val, y_val[:,:-1]], y_val.reshape(y_val.shape[0], y_val.shape[1], 1)[:,1:])\n",
        "print('Validation loss:', val_loss)\n",
        "print('Validation accuracy:', val_acc)\n",
        "\n",
        "# Load the test data\n",
        "test_data = pd.read_table('/content/drive/MyDrive/FINAL/test.csv', sep=',', names=['question','sql'])\n",
        "test_data.question = test_data.question.apply(preprocess)\n",
        "\n",
        "# Tokenize the test data\n",
        "test_sequences = eng_tokenizer.texts_to_sequences(test_data.question)\n",
        "test_sequences = pad_sequences(test_sequences, padding='post')\n",
        "\n",
        "# Generate predictions for the test data\n",
        "predictions = model.predict([test_sequences, np.zeros((len(test_sequences), max_output_length))])\n",
        "predicted_sequences = np.argmax(predictions, axis=2)\n",
        "\n",
        "# Convert the predicted sequences to SQL sentences\n",
        "def sequence_to_sql(sequence):\n",
        "    sql = []\n",
        "    for idx in sequence:\n",
        "        if idx == 0:\n",
        "            break\n",
        "        word = sql_tokenizer.index_word[idx]\n",
        "        sql.append(word)\n",
        "    return ' '.join(sql)\n",
        "\n",
        "predicted_sql = [sequence_to_sql(seq) for seq in predicted_sequences]\n",
        "\n",
        "# Add the predicted SQL sentences to the test data\n",
        "test_data['predicted_sql'] = predicted_sql\n",
        "\n",
        "# Print the test data with predicted SQL sentences\n",
        "print(test_data[['question', 'sql', 'predicted_sql']])"
      ],
      "metadata": {
        "id": "nsGD1PeuBYM4"
      },
      "execution_count": null,
      "outputs": []
    },
    {
      "cell_type": "code",
      "source": [
        "# Plot the epoch vs. loss graph\n",
        "import matplotlib.pyplot as plt\n",
        "\n",
        "plt.plot(model.history.history['loss'])\n",
        "plt.plot(model.history.history['val_loss'])\n",
        "plt.title('Epoch vs. Loss')\n",
        "plt.xlabel('Epoch')\n",
        "plt.ylabel('Loss')\n",
        "plt.legend(['Training Loss', 'Validation Loss'])\n",
        "plt.show()"
      ],
      "metadata": {
        "colab": {
          "base_uri": "https://localhost:8080/",
          "height": 472
        },
        "id": "OsKj5-sISrMT",
        "outputId": "a94afbbc-2a68-42ed-e9b6-a10c852e809e"
      },
      "execution_count": 6,
      "outputs": [
        {
          "output_type": "display_data",
          "data": {
            "text/plain": [
              "<Figure size 640x480 with 1 Axes>"
            ],
            "image/png": "[encoded data removed]"
          },
          "metadata": {}
        }
      ]
    },
    {
      "cell_type": "code",
      "source": [
        "### NO NEED TO RUN THIS - error\n",
        "\n",
        "\n",
        "# Evaluate the model\n",
        "_, acc = model.evaluate([X_val, y_val[:,:-1]], y_val.reshape(y_val.shape[0], y_val.shape[1], 1)[:,1:])\n",
        "print(\"Validation accuracy:\", acc)"
      ],
      "metadata": {
        "colab": {
          "base_uri": "https://localhost:8080/"
        },
        "id": "Y84goYi-TrE-",
        "outputId": "6d516be9-49ca-4da0-f2b9-9f3d8e30ea8a"
      },
      "execution_count": null,
      "outputs": [
        {
          "output_type": "stream",
          "name": "stdout",
          "text": [
            "100/100 [==============================] - 2s 22ms/step - loss: 0.6461 - accuracy: 0.9088\n",
            "Validation accuracy: 0.9088007807731628\n"
          ]
        }
      ]
    },
    {
      "cell_type": "code",
      "source": [
        "# lines = train_data\n",
        "\n",
        "\n",
        "# # Tokenize the input and output sentences\n",
        "# eng_tokenizer = Tokenizer()\n",
        "# eng_tokenizer.fit_on_texts(lines.question)\n",
        "# input_sequences = eng_tokenizer.texts_to_sequences(lines.question)\n",
        "# input_sequences = pad_sequences(input_sequences, padding='post')\n",
        "\n",
        "# sql_tokenizer = Tokenizer()\n",
        "# sql_tokenizer.fit_on_texts(lines.sql)\n",
        "# # Add 'start_' token manually to the word index\n",
        "# sql_tokenizer.word_index['start'] = len(sql_tokenizer.word_index) + 1\n",
        "# output_sequences = sql_tokenizer.texts_to_sequences(lines.sql)\n",
        "# output_sequences = pad_sequences(output_sequences, padding='post')\n",
        "\n",
        "# Generate predictions\n",
        "def predict_sequence(input_sequence):\n",
        "    states_value = encoder_model.predict(input_sequence)\n",
        "    target_seq = np.zeros((1, 1))\n",
        "    target_seq[0, 0] = sql_tokenizer.word_index['start']\n",
        "    stop_condition = False\n",
        "    decoded_sentence = ''\n",
        "    while not stop_condition:\n",
        "        output_tokens, h, c = decoder_model.predict([target_seq] + states_value)\n",
        "        sampled_token_index = np.argmax(output_tokens[0, -1, :])\n",
        "        sampled_token = sql_tokenizer.index_word[sampled_token_index]\n",
        "        if (sampled_token != 'end' and sampled_token != 'start'):\n",
        "            decoded_sentence += ' ' + sampled_token\n",
        "        if (sampled_token == 'end' or len(decoded_sentence.split()) >= (max_output_length-1)):\n",
        "            stop_condition = True\n",
        "        target_seq = np.zeros((1, 1))\n",
        "        target_seq[0, 0] = sampled_token_index\n",
        "        states_value = [h, c]\n",
        "    return decoded_sentence.strip()\n"
      ],
      "metadata": {
        "id": "UJXnN3ooTylR"
      },
      "execution_count": 8,
      "outputs": []
    },
    {
      "cell_type": "code",
      "source": [
        "# Create encoder and decoder models for prediction\n",
        "encoder_model = Model(encoder_inputs, encoder_states)\n",
        "\n",
        "decoder_state_input_h = Input(shape=(hidden_size,))\n",
        "decoder_state_input_c = Input(shape=(hidden_size,))\n",
        "decoder_states_inputs = [decoder_state_input_h, decoder_state_input_c]\n",
        "\n",
        "dec_emb2= dec_emb_layer(decoder_inputs)\n",
        "decoder_outputs2, state_h2, state_c2 = decoder_lstm(dec_emb2, initial_state=decoder_states_inputs)\n",
        "decoder_states2 = [state_h2, state_c2]\n",
        "decoder_outputs2 = decoder_dense(decoder_outputs2)\n",
        "\n",
        "decoder_model = Model(\n",
        "    [decoder_inputs] + decoder_states_inputs,\n",
        "    [decoder_outputs2] + decoder_states2)"
      ],
      "metadata": {
        "id": "PVfBMOwGT5tT"
      },
      "execution_count": 7,
      "outputs": []
    },
    {
      "cell_type": "code",
      "source": [
        "## Save the model\n",
        "\n",
        "# model.save(\"/content/drive/MyDrive/FINAL/trained_model2_with_encoder\")"
      ],
      "metadata": {
        "colab": {
          "base_uri": "https://localhost:8080/"
        },
        "id": "9NInKhSLkNHO",
        "outputId": "ea08eef9-4c60-46e8-d816-0cb6eaab8517"
      },
      "execution_count": 27,
      "outputs": [
        {
          "output_type": "stream",
          "name": "stderr",
          "text": [
            "WARNING:absl:Found untraced functions such as lstm_cell_layer_call_fn, lstm_cell_layer_call_and_return_conditional_losses, lstm_cell_1_layer_call_fn, lstm_cell_1_layer_call_and_return_conditional_losses while saving (showing 4 of 4). These functions will not be directly callable after loading.\n"
          ]
        }
      ]
    },
    {
      "cell_type": "code",
      "source": [
        "encoder_inputs"
      ],
      "metadata": {
        "colab": {
          "base_uri": "https://localhost:8080/"
        },
        "id": "27geNOaBcviF",
        "outputId": "2744f084-23c7-46cb-fe39-0e2dae729b5d"
      },
      "execution_count": 25,
      "outputs": [
        {
          "output_type": "execute_result",
          "data": {
            "text/plain": [
              "<KerasTensor: shape=(None, None) dtype=float32 (created by layer 'input_1')>"
            ]
          },
          "metadata": {},
          "execution_count": 25
        }
      ]
    },
    {
      "cell_type": "code",
      "source": [
        "a = test_data.iloc[69]\n",
        "print(a.question)\n",
        "print(a.sql)\n",
        "print(\"\\n\")\n",
        "\n",
        "# Test the model\n",
        "test_input = a.question\n",
        "test_input_seq = eng_tokenizer.texts_to_sequences([test_input])\n",
        "test_input_seq = pad_sequences(test_input_seq, maxlen=max_input_length, padding='post')\n",
        "pred = predict_sequence(test_input_seq)\n",
        "print(\"Input sentence:\", test_input)\n",
        "print(\"Predicted SQL query:\", pred)"
      ],
      "metadata": {
        "colab": {
          "base_uri": "https://localhost:8080/"
        },
        "id": "6btPohWFT80-",
        "outputId": "1abb9326-e634-471a-c331-1cf2ac5e414c"
      },
      "execution_count": 9,
      "outputs": [
        {
          "output_type": "stream",
          "name": "stdout",
          "text": [
            "what is the lowest group to earn  points\n",
            "SELECT MIN Group stage FROM table WHERE Points = 886.6\n",
            "\n",
            "\n",
            "1/1 [==============================] - 0s 359ms/step\n",
            "1/1 [==============================] - 0s 352ms/step\n",
            "1/1 [==============================] - 0s 22ms/step\n",
            "1/1 [==============================] - 0s 21ms/step\n",
            "1/1 [==============================] - 0s 23ms/step\n",
            "1/1 [==============================] - 0s 22ms/step\n",
            "1/1 [==============================] - 0s 21ms/step\n",
            "1/1 [==============================] - 0s 20ms/step\n",
            "Input sentence: what is the lowest group to earn  points\n",
            "Predicted SQL query: select min from table where points\n"
          ]
        }
      ]
    },
    {
      "cell_type": "code",
      "source": [
        "print(max_input_length)\n",
        "print(max_output_length)"
      ],
      "metadata": {
        "id": "envt00vJT_fP",
        "colab": {
          "base_uri": "https://localhost:8080/"
        },
        "outputId": "1c12132f-c497-4ac6-dc23-3d34f9430524"
      },
      "execution_count": 29,
      "outputs": [
        {
          "output_type": "stream",
          "name": "stdout",
          "text": [
            "42\n",
            "58\n"
          ]
        }
      ]
    },
    {
      "cell_type": "code",
      "source": [
        "model.summary()"
      ],
      "metadata": {
        "colab": {
          "base_uri": "https://localhost:8080/"
        },
        "id": "6cGONZ_RZlQ7",
        "outputId": "449e9054-789a-4d0e-987c-65628e33c2a2"
      },
      "execution_count": 10,
      "outputs": [
        {
          "output_type": "stream",
          "name": "stdout",
          "text": [
            "Model: \"model\"\n",
            "__________________________________________________________________________________________________\n",
            " Layer (type)                   Output Shape         Param #     Connected to                     \n",
            "==================================================================================================\n",
            " input_1 (InputLayer)           [(None, None)]       0           []                               \n",
            "                                                                                                  \n",
            " input_2 (InputLayer)           [(None, None)]       0           []                               \n",
            "                                                                                                  \n",
            " embedding (Embedding)          (None, None, 50)     1405600     ['input_1[0][0]']                \n",
            "                                                                                                  \n",
            " embedding_1 (Embedding)        (None, None, 50)     1279500     ['input_2[0][0]']                \n",
            "                                                                                                  \n",
            " lstm (LSTM)                    [(None, 512),        1153024     ['embedding[0][0]']              \n",
            "                                 (None, 512),                                                     \n",
            "                                 (None, 512)]                                                     \n",
            "                                                                                                  \n",
            " lstm_1 (LSTM)                  [(None, None, 512),  1153024     ['embedding_1[0][0]',            \n",
            "                                 (None, 512),                     'lstm[0][1]',                   \n",
            "                                 (None, 512)]                     'lstm[0][2]']                   \n",
            "                                                                                                  \n",
            " dense (Dense)                  (None, None, 25590)  13127670    ['lstm_1[0][0]']                 \n",
            "                                                                                                  \n",
            "==================================================================================================\n",
            "Total params: 18,118,818\n",
            "Trainable params: 15,433,718\n",
            "Non-trainable params: 2,685,100\n",
            "__________________________________________________________________________________________________\n"
          ]
        }
      ]
    },
    {
      "cell_type": "code",
      "source": [
        "!nvidia-smi"
      ],
      "metadata": {
        "colab": {
          "base_uri": "https://localhost:8080/"
        },
        "id": "f6rIt_pgbWFb",
        "outputId": "3d717600-fa3d-4a3c-d84c-efba73fb5f75"
      },
      "execution_count": 12,
      "outputs": [
        {
          "output_type": "stream",
          "name": "stdout",
          "text": [
            "Sun Jun  4 14:30:31 2023       \n",
            "+-----------------------------------------------------------------------------+\n",
            "| NVIDIA-SMI 525.85.12    Driver Version: 525.85.12    CUDA Version: 12.0     |\n",
            "|-------------------------------+----------------------+----------------------+\n",
            "| GPU  Name        Persistence-M| Bus-Id        Disp.A | Volatile Uncorr. ECC |\n",
            "| Fan  Temp  Perf  Pwr:Usage/Cap|         Memory-Usage | GPU-Util  Compute M. |\n",
            "|                               |                      |               MIG M. |\n",
            "|===============================+======================+======================|\n",
            "|   0  Tesla T4            Off  | 00000000:00:04.0 Off |                    0 |\n",
            "| N/A   50C    P0    27W /  70W |   4835MiB / 15360MiB |      0%      Default |\n",
            "|                               |                      |                  N/A |\n",
            "+-------------------------------+----------------------+----------------------+\n",
            "                                                                               \n",
            "+-----------------------------------------------------------------------------+\n",
            "| Processes:                                                                  |\n",
            "|  GPU   GI   CI        PID   Type   Process name                  GPU Memory |\n",
            "|        ID   ID                                                   Usage      |\n",
            "|=============================================================================|\n",
            "+-----------------------------------------------------------------------------+\n"
          ]
        }
      ]
    },
    {
      "cell_type": "code",
      "source": [
        "model.save(\"/content/drive/MyDrive/FINAL/TRAINED/hijo_diusa_folder_wala/hijo_diuso_ko_model\")"
      ],
      "metadata": {
        "colab": {
          "base_uri": "https://localhost:8080/"
        },
        "id": "t5KcNLitsrfZ",
        "outputId": "796b6b75-5327-486a-d39f-ad92f0dc75f8"
      },
      "execution_count": 12,
      "outputs": [
        {
          "output_type": "stream",
          "name": "stderr",
          "text": [
            "WARNING:absl:Found untraced functions such as lstm_cell_layer_call_fn, lstm_cell_layer_call_and_return_conditional_losses, lstm_cell_1_layer_call_fn, lstm_cell_1_layer_call_and_return_conditional_losses while saving (showing 4 of 4). These functions will not be directly callable after loading.\n"
          ]
        }
      ]
    },
    {
      "cell_type": "code",
      "source": [
        "encoder_model.save(\"/content/drive/MyDrive/FINAL/TRAINED/hijo_diusa_folder_wala/hijo_diuso_ko_model_encoder\")\n",
        "decoder_model.save(\"/content/drive/MyDrive/FINAL/TRAINED/hijo_diusa_folder_wala/hijo_diusa_ko_model_decoder\")"
      ],
      "metadata": {
        "colab": {
          "base_uri": "https://localhost:8080/"
        },
        "id": "kKeNIVxAAzdR",
        "outputId": "55e8b0ff-6f7e-4581-ddc5-eae0a2132700"
      },
      "execution_count": 13,
      "outputs": [
        {
          "output_type": "stream",
          "name": "stderr",
          "text": [
            "WARNING:tensorflow:Compiled the loaded model, but the compiled metrics have yet to be built. `model.compile_metrics` will be empty until you train or evaluate the model.\n",
            "WARNING:absl:Found untraced functions such as lstm_cell_layer_call_fn, lstm_cell_layer_call_and_return_conditional_losses while saving (showing 2 of 2). These functions will not be directly callable after loading.\n",
            "WARNING:tensorflow:Compiled the loaded model, but the compiled metrics have yet to be built. `model.compile_metrics` will be empty until you train or evaluate the model.\n",
            "WARNING:absl:Found untraced functions such as lstm_cell_1_layer_call_fn, lstm_cell_1_layer_call_and_return_conditional_losses while saving (showing 2 of 2). These functions will not be directly callable after loading.\n"
          ]
        }
      ]
    },
    {
      "cell_type": "code",
      "source": [],
      "metadata": {
        "id": "qA9Aj7gVIRjE"
      },
      "execution_count": null,
      "outputs": []
    }
  ],
  "metadata": {
    "accelerator": "GPU",
    "colab": {
      "provenance": [],
      "gpuType": "T4"
    },
    "kernelspec": {
      "display_name": "Python 3",
      "name": "python3"
    },
    "language_info": {
      "name": "python"
    }
  },
  "nbformat": 4,
  "nbformat_minor": 0
}